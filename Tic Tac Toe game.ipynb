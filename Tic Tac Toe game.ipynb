{
 "cells": [
  {
   "cell_type": "markdown",
   "id": "9be179c4",
   "metadata": {},
   "source": [
    "#### Step 1: create a board which will be a visual representation of the game"
   ]
  },
  {
   "cell_type": "code",
   "execution_count": 51,
   "id": "d5318b4f",
   "metadata": {},
   "outputs": [],
   "source": [
    "def game_board(board):\n",
    "    \n",
    "    print(\"    | \",\"  | \",\"  | \")\n",
    "    print(\" \",board[1],\"| \",board[2],\"| \",board[3],\"|\")\n",
    "    print(\"    | \",\"  | \",\"  | \")\n",
    "    print(\"---------------\")\n",
    "    print(\"    | \",\"  | \",\"  | \")\n",
    "    print(\" \",board[4],\"| \",board[5],\"| \",board[6],\"|\")\n",
    "    print(\"    | \",\"  | \",\"  | \")\n",
    "    print(\"---------------\")\n",
    "    print(\"    | \",\"  | \",\"  | \")\n",
    "    print(\" \",board[7],\"| \",board[8],\"| \",board[9],\"|\")\n",
    "    print(\"    | \",\"  | \",\"  | \")"
   ]
  },
  {
   "cell_type": "code",
   "execution_count": 52,
   "id": "9830a9a0",
   "metadata": {},
   "outputs": [
    {
     "name": "stdout",
     "output_type": "stream",
     "text": [
      "    |    |    | \n",
      "  X |  X |  X |\n",
      "    |    |    | \n",
      "---------------\n",
      "    |    |    | \n",
      "  X |  X |  X |\n",
      "    |    |    | \n",
      "---------------\n",
      "    |    |    | \n",
      "  X |  X |  X |\n",
      "    |    |    | \n"
     ]
    }
   ],
   "source": [
    "game_board(['X']*10)"
   ]
  },
  {
   "cell_type": "markdown",
   "id": "c07209d4",
   "metadata": {},
   "source": [
    "#### Step 2: choose which player takes \"X\" and which \"O\""
   ]
  },
  {
   "cell_type": "code",
   "execution_count": 13,
   "id": "37c867c2",
   "metadata": {},
   "outputs": [],
   "source": [
    "def choice():\n",
    "    \n",
    "    choice = \"\"\n",
    "    while choice != \"X\" and choice != \"O\":\n",
    "        choice = input(\"Please select your sign (\"\"X\"\" or \"\"O\"\")\")\n",
    "        \n",
    "    if choice == \"X\":\n",
    "        print(\"Player 1 took X. Player 2 takes O\")\n",
    "        player1 = \"X\"\n",
    "        player2 = \"O\"\n",
    "    else:\n",
    "        print(\"Player 1 took O. Player 2 takes X\")\n",
    "        player1 = \"O\"\n",
    "        player2 = \"X\"\n",
    "    return (player1,player2)"
   ]
  },
  {
   "cell_type": "markdown",
   "id": "47a5779d",
   "metadata": {},
   "source": [
    "#### Step 3: Input marker to a position"
   ]
  },
  {
   "cell_type": "code",
   "execution_count": 3,
   "id": "078a5dca",
   "metadata": {},
   "outputs": [],
   "source": [
    "def input_marker(board,marker,position):\n",
    "    board[position] = marker"
   ]
  },
  {
   "cell_type": "markdown",
   "id": "df489d58",
   "metadata": {},
   "source": [
    "#### Step 4: Function to check if someone won"
   ]
  },
  {
   "cell_type": "code",
   "execution_count": 4,
   "id": "d4e1c6f8",
   "metadata": {},
   "outputs": [],
   "source": [
    "def check_win(board,marker):\n",
    "    return((board[1] == marker and board[2] == marker and board[3] == marker) or\n",
    "    (board[4] == marker and board[5] == marker and board[6] == marker) or\n",
    "    (board[7] == marker and board[8] == marker and board[9] == marker) or\n",
    "    (board[1] == marker and board[4] == marker and board[7] == marker) or\n",
    "    (board[2] == marker and board[5] == marker and board[8] == marker) or\n",
    "    (board[3] == marker and board[6] == marker and board[9] == marker) or\n",
    "    (board[1] == marker and board[5] == marker and board[9] == marker) or\n",
    "    (board[3] == marker and board[5] == marker and board[7] == marker))\n",
    "    "
   ]
  },
  {
   "cell_type": "markdown",
   "id": "4fafa136",
   "metadata": {},
   "source": [
    "#### Step 5: Select an order of players"
   ]
  },
  {
   "cell_type": "code",
   "execution_count": 5,
   "id": "0a87156e",
   "metadata": {},
   "outputs": [],
   "source": [
    "import numpy as np\n",
    "\n",
    "def draw_lots():\n",
    "    if int(np.random.rand(1).round()) == 0:\n",
    "        start = \"X\"\n",
    "    else:\n",
    "        start = \"O\"\n",
    "    return start"
   ]
  },
  {
   "cell_type": "markdown",
   "id": "36fda800",
   "metadata": {},
   "source": [
    "#### Step 6: Check if a field is still empty?"
   ]
  },
  {
   "cell_type": "code",
   "execution_count": 6,
   "id": "e52b1fc6",
   "metadata": {},
   "outputs": [],
   "source": [
    "def empty_field(board,position):\n",
    "    \n",
    "    return board[position] == \" \""
   ]
  },
  {
   "cell_type": "markdown",
   "id": "681a1ee9",
   "metadata": {},
   "source": [
    "#### Step 7: Check if board is full?"
   ]
  },
  {
   "cell_type": "code",
   "execution_count": 7,
   "id": "ed8dba33",
   "metadata": {},
   "outputs": [],
   "source": [
    "def full_board(board):\n",
    "    \n",
    "    for elem in board:\n",
    "        if elem == \" \":\n",
    "            return False\n",
    "        else:\n",
    "            return True"
   ]
  },
  {
   "cell_type": "markdown",
   "id": "5260d1f2",
   "metadata": {},
   "source": [
    "#### Step 8: Grab player's choice"
   ]
  },
  {
   "cell_type": "code",
   "execution_count": 25,
   "id": "c6af9f43",
   "metadata": {},
   "outputs": [],
   "source": [
    "def player_move(board):\n",
    "    \n",
    "    pos = 100\n",
    "    \n",
    "    #CONDITIONS MUST BE IN THIS ORDER BECUASE THE ND ONE WILL RESULT IN ERROR WITH pos =100\n",
    "    #BUT AS I TAKE OR STATEMENT IF THE FIRST CONDITION WON'T BE SATISFIED IT WILL RETURN FALSE\n",
    "    #IF FIRST IS SATISFIED IT WILL RETURN TRUE AND THEN THE 2ND CONDITION WILL BE CHECKED\n",
    "    while pos not in range(1,10) or not empty_field(board,pos):\n",
    "        pos = int(input(\"Please select the field of your selection [1-9]\"))\n",
    "        \n",
    "        if type(pos) != int:\n",
    "            print(\"Please provide and integer from a range 1-9\")\n",
    "        if empty_field(board,pos) == False:\n",
    "            print(\"This field is already occupied. Please select another one\")\n",
    "            \n",
    "    return pos"
   ]
  },
  {
   "cell_type": "markdown",
   "id": "f25fd728",
   "metadata": {},
   "source": [
    "#### Step 9: Check if players want a rematch?"
   ]
  },
  {
   "cell_type": "code",
   "execution_count": 9,
   "id": "0f520af6",
   "metadata": {},
   "outputs": [],
   "source": [
    "def rematch():\n",
    "    ans = \"\"\n",
    "    \n",
    "    while ans != \"Y\" and ans != \"N\":\n",
    "        ans = input(\"Do you want to play again? (Please type Y or N)\")\n",
    "\n",
    "        if ans != \"Y\" and ans != \"N\":\n",
    "            print(\"Please type either Y or N\")\n",
    "        \n",
    "    if ans == \"Y\":\n",
    "        return True\n",
    "    else:\n",
    "        return False\n",
    "        "
   ]
  },
  {
   "cell_type": "markdown",
   "id": "acf56fb2",
   "metadata": {},
   "source": [
    "#### Step 10: LET'S PLAY A GAME"
   ]
  },
  {
   "cell_type": "code",
   "execution_count": 36,
   "id": "f1868734",
   "metadata": {},
   "outputs": [
    {
     "name": "stdout",
     "output_type": "stream",
     "text": [
      "Welcome to Tic Tac Toe\n",
      "Please select your sign (X or O)x\n",
      "Please select your sign (X or O)X\n",
      "Player 1 took X. Player 2 takes O\n",
      "X starts the game!\n",
      "Ready to play? (Y/N)N\n",
      "Do you want to play again? (Please type Y or N)N\n"
     ]
    }
   ],
   "source": [
    "print (\"Welcome to Tic Tac Toe\")\n",
    "\n",
    "while True:\n",
    "    \n",
    "    player1,player2 = choice()    \n",
    "    board = [' ']*10\n",
    "    \n",
    "    turn = draw_lots()\n",
    "    print(turn, \"starts the game!\")\n",
    "    \n",
    "    play = input(\"Ready to play? (Y/N)\")\n",
    "    \n",
    "    if play == \"Y\":\n",
    "        game = True\n",
    "    else:\n",
    "        game = False\n",
    "        \n",
    "    while game:\n",
    "        #PLAYER 1 TURN\n",
    "        if turn == player1:\n",
    "            game_board(board)\n",
    "\n",
    "            position = player_move(board)\n",
    "\n",
    "            input_marker(board,player1,position)\n",
    "            \n",
    "            turn = player2\n",
    "            \n",
    "        else:\n",
    "            game_board(board)\n",
    "\n",
    "            position = player_move(board)\n",
    "\n",
    "            input_marker(board,player1,position)\n",
    "            \n",
    "            turn = player1\n",
    "            \n",
    "            game = False\n",
    "        \n",
    "        \n",
    "    \n",
    "    if not rematch():\n",
    "        break"
   ]
  },
  {
   "cell_type": "code",
   "execution_count": null,
   "id": "d09cbe4d",
   "metadata": {},
   "outputs": [],
   "source": []
  }
 ],
 "metadata": {
  "kernelspec": {
   "display_name": "Python 3",
   "language": "python",
   "name": "python3"
  },
  "language_info": {
   "codemirror_mode": {
    "name": "ipython",
    "version": 3
   },
   "file_extension": ".py",
   "mimetype": "text/x-python",
   "name": "python",
   "nbconvert_exporter": "python",
   "pygments_lexer": "ipython3",
   "version": "3.8.8"
  }
 },
 "nbformat": 4,
 "nbformat_minor": 5
}
