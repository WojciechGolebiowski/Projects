{
 "cells": [
  {
   "cell_type": "markdown",
   "id": "9be179c4",
   "metadata": {},
   "source": [
    "#### Step 1: create a board which will be a visual representation of the game"
   ]
  },
  {
   "cell_type": "code",
   "execution_count": 1,
   "id": "d5318b4f",
   "metadata": {},
   "outputs": [],
   "source": [
    "def game_board(board):\n",
    "    \n",
    "    print(\"  | \",\"  | \",\"  | \")\n",
    "    print(board[1],\"| \",board[2],\"| \",board[3],\"|\")\n",
    "    print(\"  | \",\"  | \",\"  | \")\n",
    "    print(\"-------------\")\n",
    "    print(\"  | \",\"  | \",\"  | \")\n",
    "    print(board[4],\"| \",board[5],\"| \",board[6],\"|\")\n",
    "    print(\"  | \",\"  | \",\"  | \")\n",
    "    print(\"-------------\")\n",
    "    print(\"  | \",\"  | \",\"  | \")\n",
    "    print(board[7],\"| \",board[8],\"| \",board[9],\"|\")\n",
    "    print(\"  | \",\"  | \",\"  | \")"
   ]
  },
  {
   "cell_type": "markdown",
   "id": "c07209d4",
   "metadata": {},
   "source": [
    "#### Step 2: choose which player takes \"X\" and which \"O\""
   ]
  },
  {
   "cell_type": "code",
   "execution_count": 2,
   "id": "37c867c2",
   "metadata": {},
   "outputs": [],
   "source": [
    "def choice():\n",
    "    \n",
    "    choice = \"\"\n",
    "    while choice != \"X\" and choice != \"O\":\n",
    "        choice = input(\"Please select your sign (\"\"X\"\" or \"\"O\"\")\")\n",
    "        \n",
    "    if choice == \"X\":\n",
    "        player1 = \"X\"\n",
    "        player2 = \"O\"\n",
    "    else:\n",
    "        player1 = \"O\"\n",
    "        player2 = \"X\"\n",
    "    return (player1,player2)"
   ]
  },
  {
   "cell_type": "markdown",
   "id": "47a5779d",
   "metadata": {},
   "source": [
    "#### Step 3: Input marker to a position"
   ]
  },
  {
   "cell_type": "code",
   "execution_count": 4,
   "id": "078a5dca",
   "metadata": {},
   "outputs": [],
   "source": [
    "def input_marker(board,marker,position):\n",
    "    board[position] = marker"
   ]
  },
  {
   "cell_type": "markdown",
   "id": "df489d58",
   "metadata": {},
   "source": [
    "#### Step 4: Function to check if someone won"
   ]
  },
  {
   "cell_type": "code",
   "execution_count": 8,
   "id": "d4e1c6f8",
   "metadata": {},
   "outputs": [],
   "source": [
    "def check_win(board,marker):\n",
    "    return((board[1] == marker and board[2] == marker and board[3] == marker) or\n",
    "    (board[4] == marker and board[5] == marker and board[6] == marker) or\n",
    "    (board[7] == marker and board[8] == marker and board[9] == marker) or\n",
    "    (board[1] == marker and board[4] == marker and board[7] == marker) or\n",
    "    (board[2] == marker and board[5] == marker and board[8] == marker) or\n",
    "    (board[3] == marker and board[6] == marker and board[9] == marker) or\n",
    "    (board[1] == marker and board[5] == marker and board[9] == marker) or\n",
    "    (board[3] == marker and board[5] == marker and board[7] == marker))\n",
    "    "
   ]
  },
  {
   "cell_type": "markdown",
   "id": "4fafa136",
   "metadata": {},
   "source": [
    "#### Step 5: Select an order of players"
   ]
  },
  {
   "cell_type": "markdown",
   "id": "36fda800",
   "metadata": {},
   "source": [
    "#### Step 6: Check if a field is still empty?"
   ]
  },
  {
   "cell_type": "code",
   "execution_count": null,
   "id": "e52b1fc6",
   "metadata": {},
   "outputs": [],
   "source": [
    "def empty_field(board,position):\n",
    "    \n",
    "    return board[position] != \" \""
   ]
  },
  {
   "cell_type": "markdown",
   "id": "681a1ee9",
   "metadata": {},
   "source": [
    "#### Step 7: Check if board is full?"
   ]
  },
  {
   "cell_type": "code",
   "execution_count": null,
   "id": "ed8dba33",
   "metadata": {},
   "outputs": [],
   "source": [
    "def full_board(board):\n",
    "    \n",
    "    for elem in board:\n",
    "        if elem == \" \":\n",
    "            return False\n",
    "        else:\n",
    "            return True"
   ]
  },
  {
   "cell_type": "markdown",
   "id": "5260d1f2",
   "metadata": {},
   "source": [
    "#### Step 8: Grab player's choice"
   ]
  },
  {
   "cell_type": "markdown",
   "id": "f25fd728",
   "metadata": {},
   "source": [
    "#### Step 9: Check if players want a rematch?"
   ]
  },
  {
   "cell_type": "markdown",
   "id": "acf56fb2",
   "metadata": {},
   "source": [
    "#### Step 10: LET'S PLAY A GAME"
   ]
  },
  {
   "cell_type": "code",
   "execution_count": null,
   "id": "f1868734",
   "metadata": {},
   "outputs": [],
   "source": []
  }
 ],
 "metadata": {
  "kernelspec": {
   "display_name": "Python 3",
   "language": "python",
   "name": "python3"
  },
  "language_info": {
   "codemirror_mode": {
    "name": "ipython",
    "version": 3
   },
   "file_extension": ".py",
   "mimetype": "text/x-python",
   "name": "python",
   "nbconvert_exporter": "python",
   "pygments_lexer": "ipython3",
   "version": "3.8.8"
  }
 },
 "nbformat": 4,
 "nbformat_minor": 5
}
