{
 "cells": [
  {
   "cell_type": "markdown",
   "id": "34ad60ef",
   "metadata": {},
   "source": [
    "## FUNCTIONS"
   ]
  },
  {
   "cell_type": "markdown",
   "id": "d1bb3db9",
   "metadata": {},
   "source": [
    "### Count occurances on the list"
   ]
  },
  {
   "cell_type": "code",
   "execution_count": 19,
   "id": "8dde4ea6",
   "metadata": {},
   "outputs": [],
   "source": [
    "def zliczanie(input_list):\n",
    "    unique_list = list(set(input_list))\n",
    "    results = {}\n",
    "    for n in range(len(unique_list)):\n",
    "        results[unique_list[n]] = input_list.count(unique_list[n])\n",
    "    return results    "
   ]
  },
  {
   "cell_type": "code",
   "execution_count": 20,
   "id": "29f41905",
   "metadata": {},
   "outputs": [],
   "source": [
    "aa = [1,2,3,4,5,6,2,3,4,12,3,5]"
   ]
  },
  {
   "cell_type": "code",
   "execution_count": 21,
   "id": "350567f6",
   "metadata": {},
   "outputs": [
    {
     "data": {
      "text/plain": [
       "{1: 1, 2: 2, 3: 3, 4: 2, 5: 2, 6: 1, 12: 1}"
      ]
     },
     "execution_count": 21,
     "metadata": {},
     "output_type": "execute_result"
    }
   ],
   "source": [
    "zliczanie(aa)"
   ]
  },
  {
   "cell_type": "markdown",
   "id": "6bb5d461",
   "metadata": {},
   "source": [
    "### Building Christmas Tree"
   ]
  },
  {
   "cell_type": "code",
   "execution_count": 48,
   "id": "4b6ba979",
   "metadata": {},
   "outputs": [],
   "source": [
    "def choinka(n):\n",
    "    i = 1\n",
    "    for level in range(n+1):\n",
    "        string = ' '*(n-level) + '*'*i + ' '*(n-level)\n",
    "        print(string)\n",
    "        i += 2\n",
    "    print(' '*(level) + '*' + ' '*(level))\n",
    "    print(' '*(level-1) + '***' + ' '*(level-1))"
   ]
  },
  {
   "cell_type": "code",
   "execution_count": 50,
   "id": "37a76731",
   "metadata": {},
   "outputs": [
    {
     "name": "stdout",
     "output_type": "stream",
     "text": [
      "                    *                    \n",
      "                   ***                   \n",
      "                  *****                  \n",
      "                 *******                 \n",
      "                *********                \n",
      "               ***********               \n",
      "              *************              \n",
      "             ***************             \n",
      "            *****************            \n",
      "           *******************           \n",
      "          *********************          \n",
      "         ***********************         \n",
      "        *************************        \n",
      "       ***************************       \n",
      "      *****************************      \n",
      "     *******************************     \n",
      "    *********************************    \n",
      "   ***********************************   \n",
      "  *************************************  \n",
      " *************************************** \n",
      "*****************************************\n",
      "                    *                    \n",
      "                   ***                   \n"
     ]
    }
   ],
   "source": [
    "choinka(20)"
   ]
  },
  {
   "cell_type": "markdown",
   "id": "eeb86022",
   "metadata": {},
   "source": [
    "### Translate number to a text [in PL]"
   ]
  },
  {
   "cell_type": "code",
   "execution_count": 65,
   "id": "165afd61",
   "metadata": {},
   "outputs": [],
   "source": [
    "def slownik_liczb(n):\n",
    "    n = str(n)\n",
    "    dict_1 = {0:'',1:'jeden',2:'dwa',3:'trzy',4:'cztery',5:'pięć',6:'sześć',7:'siedem',8:'osiem',9:'dziewięć'}\n",
    "    dict_2 = {0:'dziesięć',1:'jedenaście',2:'dwanaście',3:'trzynaście',4:'czternaście',5:'piętnaście',6:'szesnaście',\\\n",
    "             7:'siedemnaście',8:'osiemnaście',9:'dziewiętnaście'}\n",
    "    dict_3 = {2:'dwadzieścia',3:'trzydzieści',4:'czterdzieści',5:'pięćdziesiąt',6:'sześćdziesiąt',\\\n",
    "             7: 'siedemdziesiąt',8: 'osiemdziesiąt',9:'dziewięćdziesiąt'}\n",
    "    dict_4 = {1:'sto',2:'dwieście',3:'trzysta',4:'czterysta',5:'pięćset',6:'sześćset',7:'siedemset',8:'osiemset',9:'dziewięćset'}\n",
    "    if int(n) in range(0,1000):\n",
    "        if len(n) == 1:\n",
    "            value = dict_1[int(n)]\n",
    "        elif len(n) == 2:\n",
    "            if int(n[0]) == 1:\n",
    "                value = dict_2[int(n[1])]\n",
    "            else:\n",
    "                value = dict_3[int(n[0])] + ' ' + dict_1[int(n[1])]\n",
    "        elif len(n) == 3:\n",
    "            value = dict_4[int(n[0])] + ' '\n",
    "            if int(n[1]) == 1:\n",
    "                value += dict_2[int(n[1])]\n",
    "            elif int(n[1]) == 0:\n",
    "                value += dict_1[int(n[2])]\n",
    "            else:\n",
    "                value += dict_3[int(n[1])] + ' ' + dict_1[int(n[2])]\n",
    "                \n",
    "    else:\n",
    "        print('Number not in range 0-999')\n",
    "        \n",
    "    return value\n",
    "    "
   ]
  },
  {
   "cell_type": "code",
   "execution_count": 66,
   "id": "1794b987",
   "metadata": {},
   "outputs": [
    {
     "data": {
      "text/plain": [
       "'sto '"
      ]
     },
     "execution_count": 66,
     "metadata": {},
     "output_type": "execute_result"
    }
   ],
   "source": [
    "slownik_liczb(100)"
   ]
  },
  {
   "cell_type": "code",
   "execution_count": null,
   "id": "56e352b2",
   "metadata": {},
   "outputs": [],
   "source": []
  }
 ],
 "metadata": {
  "kernelspec": {
   "display_name": "Python 3",
   "language": "python",
   "name": "python3"
  },
  "language_info": {
   "codemirror_mode": {
    "name": "ipython",
    "version": 3
   },
   "file_extension": ".py",
   "mimetype": "text/x-python",
   "name": "python",
   "nbconvert_exporter": "python",
   "pygments_lexer": "ipython3",
   "version": "3.8.8"
  }
 },
 "nbformat": 4,
 "nbformat_minor": 5
}
