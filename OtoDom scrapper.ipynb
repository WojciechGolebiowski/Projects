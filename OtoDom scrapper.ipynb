{
 "cells": [
  {
   "cell_type": "code",
   "execution_count": 1,
   "id": "1accc2ad",
   "metadata": {},
   "outputs": [],
   "source": [
    "from selenium import webdriver\n",
    "from bs4 import BeautifulSoup\n",
    "import time"
   ]
  },
  {
   "cell_type": "code",
   "execution_count": 2,
   "id": "1f61ef23",
   "metadata": {},
   "outputs": [],
   "source": [
    "#https://stackoverflow.com/questions/42478591/python-selenium-chrome-webdriver\n",
    "driver = webdriver.Chrome(r\"C:\\Users\\woote\\Desktop\\Python\\Projects\\chromedriver.exe\")"
   ]
  },
  {
   "cell_type": "code",
   "execution_count": 3,
   "id": "6e52260b",
   "metadata": {},
   "outputs": [],
   "source": [
    "driver.get('https://www.otodom.pl/pl/oferty/sprzedaz/mieszkanie/wroclaw')\n",
    "\n",
    "time.sleep(1)\n",
    "try:\n",
    "    accept = driver.find_element_by_id('onetrust-accept-btn-handler')\n",
    "    accept.click()\n",
    "except:\n",
    "    pass\n",
    "finally:\n",
    "    moreFilters = driver.find_element_by_id('search-form-more-filters')\n",
    "    moreFilters.click()\n",
    "    \n",
    "    #Set minimum squared meters and maximum squared meters\n",
    "    areaMin = driver.find_element_by_id('areaMin')\n",
    "    areaMin.send_keys('40')\n",
    "    areaMax = driver.find_element_by_id('areaMax')\n",
    "    areaMax.send_keys('65')\n",
    "    #Maximum Price per meter\n",
    "    maxPrice = driver.find_element_by_id('pricePerMeterMax')\n",
    "    maxPrice.send_keys('9000')"
   ]
  },
  {
   "cell_type": "code",
   "execution_count": 4,
   "id": "a12667be",
   "metadata": {},
   "outputs": [],
   "source": [
    "#Find locals with balconys and elevators\n",
    "attributes = driver.find_element_by_xpath(\"//ul[contains(@id, 'extras')]\")\n",
    "for child in attributes.find_elements_by_xpath(\".//*\"):\n",
    "    if child.get_attribute(\"class\") == 'css-1xx0ttw elfgyn10':\n",
    "        if child.text == 'Balkon' or child.text == 'Winda':\n",
    "            child.click()            "
   ]
  },
  {
   "cell_type": "code",
   "execution_count": 5,
   "id": "90c0d41e",
   "metadata": {},
   "outputs": [],
   "source": [
    "#Submit search\n",
    "driver.find_element_by_id('search-form-submit').click()"
   ]
  },
  {
   "cell_type": "code",
   "execution_count": null,
   "id": "1643c54c",
   "metadata": {},
   "outputs": [],
   "source": []
  }
 ],
 "metadata": {
  "kernelspec": {
   "display_name": "Python 3",
   "language": "python",
   "name": "python3"
  },
  "language_info": {
   "codemirror_mode": {
    "name": "ipython",
    "version": 3
   },
   "file_extension": ".py",
   "mimetype": "text/x-python",
   "name": "python",
   "nbconvert_exporter": "python",
   "pygments_lexer": "ipython3",
   "version": "3.8.8"
  }
 },
 "nbformat": 4,
 "nbformat_minor": 5
}
