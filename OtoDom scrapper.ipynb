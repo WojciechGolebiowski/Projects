{
 "cells": [
  {
   "cell_type": "code",
   "execution_count": 10,
   "id": "1accc2ad",
   "metadata": {},
   "outputs": [],
   "source": [
    "from selenium import webdriver\n",
    "import time\n",
    "import pandas as pd"
   ]
  },
  {
   "cell_type": "code",
   "execution_count": 30,
   "id": "1f61ef23",
   "metadata": {},
   "outputs": [],
   "source": [
    "#https://stackoverflow.com/questions/42478591/python-selenium-chrome-webdriver\n",
    "#https://stackoverflow.com/questions/47074208/chrome-fails-to-load-with-python-selenium-chromedriver\n",
    "opts = webdriver.ChromeOptions()\n",
    "opts.add_argument('--no-sandbox')\n",
    "driver = webdriver.Chrome(executable_path=r\"C:\\Users\\woote\\Desktop\\Python\\Projects\\chromedriver.exe\",options=opts)"
   ]
  },
  {
   "cell_type": "code",
   "execution_count": 31,
   "id": "6e52260b",
   "metadata": {},
   "outputs": [],
   "source": [
    "driver.get('https://www.otodom.pl/pl/oferty/sprzedaz/mieszkanie/wroclaw/krzyki')\n",
    "\n",
    "time.sleep(1)\n",
    "try:\n",
    "    accept = driver.find_element_by_id('onetrust-accept-btn-handler')\n",
    "    accept.click()\n",
    "except:\n",
    "    pass\n",
    "\n",
    "#More Filters\n",
    "moreFilters = driver.find_element_by_id('search-form-more-filters')\n",
    "moreFilters.click()\n",
    "    \n",
    "#Minimum area\n",
    "areaMin = driver.find_element_by_id('areaMin')\n",
    "areaMin.send_keys('45')\n",
    "#Maximum area\n",
    "areaMax = driver.find_element_by_id('areaMax')\n",
    "areaMax.send_keys('65')\n",
    "#Maximum Price per meter\n",
    "maxPrice = driver.find_element_by_id('pricePerMeterMax')\n",
    "maxPrice.send_keys('9000')\n",
    "#Minimum Year\n",
    "buildYear = driver.find_element_by_id('buildYearMin')\n",
    "buildYear.send_keys('2010')\n",
    "\n",
    "#Find locals with balconys and elevators\n",
    "attributes = driver.find_element_by_xpath(\"//ul[contains(@id, 'extras')]\")\n",
    "for child in attributes.find_elements_by_xpath(\".//*\"):\n",
    "    if child.get_attribute(\"class\") == 'css-1xx0ttw elfgyn10':\n",
    "        if child.text == 'Balkon' or child.text == 'Winda':\n",
    "            child.click()\n",
    "            \n",
    "#Submit search\n",
    "driver.find_element_by_id('search-form-submit').click()"
   ]
  },
  {
   "cell_type": "code",
   "execution_count": 32,
   "id": "bc89d4be",
   "metadata": {},
   "outputs": [],
   "source": [
    "#Move down so that needed page elements will become visible\n",
    "driver.execute_script(\"window.scrollTo(0, 9000)\")\n",
    "time.sleep(1)\n",
    "#Get the number of pages - it will be used later to click through pages\n",
    "Buttons = driver.find_elements_by_xpath(\"//button[contains(@class, 'eoupkm71 css-1lc8b1f e11e36i3')]\")\n",
    "for i in range(len(Buttons)-1,0,-1):\n",
    "    try:\n",
    "        if int(Buttons[i].text):\n",
    "            lastPage = int(Buttons[i].text)\n",
    "            break\n",
    "    except:\n",
    "        pass"
   ]
  },
  {
   "cell_type": "code",
   "execution_count": 33,
   "id": "d97ced23",
   "metadata": {},
   "outputs": [],
   "source": [
    "offersList = driver.find_elements_by_xpath(\"//a[contains(@class, 'css-jf4j3r es62z2j27')]\")\n",
    "links = [elem.get_attribute('href') for elem in offersList]"
   ]
  },
  {
   "cell_type": "code",
   "execution_count": 34,
   "id": "fcd13db0",
   "metadata": {},
   "outputs": [],
   "source": [
    "#Loop through pages. Open offers links in new tabs and then close them\n",
    "linkS = []\n",
    "titleS = []\n",
    "cenaS = []\n",
    "cenaM2S = []\n",
    "rokBudowyS = []\n",
    "powierzchniaS = []\n",
    "rynekS = []\n",
    "pokojeS = []\n",
    "pietroS = []\n",
    "\n",
    "for i in range(1,lastPage+1):\n",
    "    \n",
    "    offersList = driver.find_elements_by_xpath(\"//a[contains(@class, 'css-jf4j3r es62z2j27')]\")\n",
    "    links = [elem.get_attribute('href') for elem in offersList]\n",
    "\n",
    "    for link in links:\n",
    "        driver.execute_script(\"window.open('');\")\n",
    "        driver.switch_to.window(driver.window_handles[1])\n",
    "        driver.get(link)\n",
    "        try:\n",
    "            cena = driver.find_element_by_xpath(\"//strong[@aria-label='Cena']\")\n",
    "            cenaM2 = driver.find_element_by_xpath(\"//div[@aria-label='Cena za metr kwadratowy']\")\n",
    "            rokBudowy = driver.find_element_by_xpath(\"//div[@aria-label='Rok budowy']\").find_elements_by_tag_name('div')[1]\n",
    "            powierzchnia = driver.find_element_by_xpath(\"//div[@aria-label='Powierzchnia']\").find_elements_by_tag_name('div')[1]\n",
    "            rynek = driver.find_element_by_xpath(\"//div[@aria-label='Rynek']\").find_elements_by_tag_name('div')[1]\n",
    "            pokoje = driver.find_element_by_xpath(\"//div[@aria-label='Liczba pokoi']\").find_elements_by_tag_name('div')[1]\n",
    "            pietro = driver.find_element_by_xpath(\"//div[@aria-label='Piętro']\").find_elements_by_tag_name('div')[1]\n",
    "            title = driver.find_element_by_xpath(\"//h1[contains(@class, 'css-11kn46p eu6swcv15')]\")\n",
    "        \n",
    "            linkS.append(link) \n",
    "            titleS.append(title.text)\n",
    "            cenaS.append(cena.text)\n",
    "            cenaM2S.append(cenaM2.text)\n",
    "            rokBudowyS.append(rokBudowy.text)\n",
    "            powierzchniaS.append(powierzchnia.text)\n",
    "            rynekS.append(rynek.text)\n",
    "            pokojeS.append(pokoje.text)\n",
    "            pietroS.append(pietro.text)\n",
    "        \n",
    "        except:\n",
    "            continue\n",
    "        \n",
    "        time.sleep(1)\n",
    "        driver.close()\n",
    "        driver.switch_to.window(driver.window_handles[0])\n",
    "    \n",
    "    driver.execute_script(\"window.scrollTo(0, 9000)\")\n",
    "    time.sleep(1)\n",
    "    \n",
    "    try:\n",
    "        nextPage = driver.find_element_by_xpath(\"//button[@aria-label='następna strona']\")\n",
    "        nextPage.click()\n",
    "    except Exception as e:\n",
    "        try:\n",
    "            driver.refresh()\n",
    "        except:\n",
    "            print(e.__doc__)\n",
    "            break"
   ]
  },
  {
   "cell_type": "code",
   "execution_count": 37,
   "id": "8f5084d2",
   "metadata": {},
   "outputs": [],
   "source": [
    "Results = pd.DataFrame({'Hyperlink':linkS, 'Tytuł':titleS, 'Cena':cenaS, 'Cena M2':cenaM2S, 'Rok Budowy':rokBudowyS,\\\n",
    "                        'Powierzchnia':powierzchniaS, 'Rynek':rynekS,'Pokoje':pokojeS, 'Piętro':pietroS},\\\n",
    "                       columns=['Hyperlink','Tytuł','Cena','Cena M2','Rok Budowy','Powierzchnia','Rynek','Pokoje','Piętro'])\n",
    "Results.drop_duplicates(inplace = True)"
   ]
  },
  {
   "cell_type": "code",
   "execution_count": 39,
   "id": "a79ea24e",
   "metadata": {},
   "outputs": [],
   "source": [
    "Results.to_excel('results.xlsx')"
   ]
  }
 ],
 "metadata": {
  "kernelspec": {
   "display_name": "Python 3",
   "language": "python",
   "name": "python3"
  },
  "language_info": {
   "codemirror_mode": {
    "name": "ipython",
    "version": 3
   },
   "file_extension": ".py",
   "mimetype": "text/x-python",
   "name": "python",
   "nbconvert_exporter": "python",
   "pygments_lexer": "ipython3",
   "version": "3.8.8"
  }
 },
 "nbformat": 4,
 "nbformat_minor": 5
}
