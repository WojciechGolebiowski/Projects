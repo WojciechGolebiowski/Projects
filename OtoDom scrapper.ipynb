{
 "cells": [
  {
   "cell_type": "code",
   "execution_count": 116,
   "id": "1accc2ad",
   "metadata": {},
   "outputs": [],
   "source": [
    "from selenium import webdriver\n",
    "from bs4 import BeautifulSoup\n",
    "import time\n",
    "import pandas as pd"
   ]
  },
  {
   "cell_type": "code",
   "execution_count": 102,
   "id": "1f61ef23",
   "metadata": {},
   "outputs": [],
   "source": [
    "#https://stackoverflow.com/questions/42478591/python-selenium-chrome-webdriver\n",
    "driver = webdriver.Chrome(r\"C:\\Users\\woote\\Desktop\\Python\\Projects\\chromedriver.exe\")"
   ]
  },
  {
   "cell_type": "code",
   "execution_count": 103,
   "id": "6e52260b",
   "metadata": {},
   "outputs": [],
   "source": [
    "driver.get('https://www.otodom.pl/pl/oferty/sprzedaz/mieszkanie/wroclaw')\n",
    "\n",
    "time.sleep(1)\n",
    "try:\n",
    "    accept = driver.find_element_by_id('onetrust-accept-btn-handler')\n",
    "    accept.click()\n",
    "except:\n",
    "    pass\n",
    "finally:\n",
    "    moreFilters = driver.find_element_by_id('search-form-more-filters')\n",
    "    moreFilters.click()\n",
    "    \n",
    "    #Set minimum squared meters and maximum squared meters\n",
    "    areaMin = driver.find_element_by_id('areaMin')\n",
    "    areaMin.send_keys('40')\n",
    "    areaMax = driver.find_element_by_id('areaMax')\n",
    "    areaMax.send_keys('65')\n",
    "    #Maximum Price per meter\n",
    "    maxPrice = driver.find_element_by_id('pricePerMeterMax')\n",
    "    maxPrice.send_keys('9000')\n",
    "    buildYear = driver.find_element_by_id('buildYearMin')\n",
    "    buildYear.send_keys('2010')"
   ]
  },
  {
   "cell_type": "code",
   "execution_count": 104,
   "id": "a12667be",
   "metadata": {},
   "outputs": [],
   "source": [
    "#Find locals with balconys and elevators\n",
    "attributes = driver.find_element_by_xpath(\"//ul[contains(@id, 'extras')]\")\n",
    "for child in attributes.find_elements_by_xpath(\".//*\"):\n",
    "    if child.get_attribute(\"class\") == 'css-1xx0ttw elfgyn10':\n",
    "        if child.text == 'Balkon' or child.text == 'Winda':\n",
    "            child.click()            "
   ]
  },
  {
   "cell_type": "code",
   "execution_count": 105,
   "id": "90c0d41e",
   "metadata": {},
   "outputs": [],
   "source": [
    "#Submit search\n",
    "driver.find_element_by_id('search-form-submit').click()"
   ]
  },
  {
   "cell_type": "code",
   "execution_count": 148,
   "id": "bc89d4be",
   "metadata": {},
   "outputs": [
    {
     "name": "stdout",
     "output_type": "stream",
     "text": [
      "18\n"
     ]
    }
   ],
   "source": [
    "#Get the number of pages - it will be used later to click through pages\n",
    "Buttons = driver.find_elements_by_xpath(\"//button[contains(@class, 'eoupkm71 css-1lc8b1f e11e36i3')]\")\n",
    "for i in range(len(Buttons)-1,0,-1):\n",
    "    try:\n",
    "        if int(Buttons[i].text):\n",
    "            lastPage = int(Buttons[i].text)\n",
    "            break\n",
    "    except:\n",
    "        pass\n",
    "print(lastPage)"
   ]
  },
  {
   "cell_type": "code",
   "execution_count": 150,
   "id": "fcd13db0",
   "metadata": {},
   "outputs": [
    {
     "ename": "IndexError",
     "evalue": "list index out of range",
     "output_type": "error",
     "traceback": [
      "\u001b[1;31m---------------------------------------------------------------------------\u001b[0m",
      "\u001b[1;31mIndexError\u001b[0m                                Traceback (most recent call last)",
      "\u001b[1;32m<ipython-input-150-e5657d1f90c2>\u001b[0m in \u001b[0;36m<module>\u001b[1;34m\u001b[0m\n\u001b[0;32m     12\u001b[0m \u001b[1;33m\u001b[0m\u001b[0m\n\u001b[0;32m     13\u001b[0m     \u001b[0mButtons\u001b[0m \u001b[1;33m=\u001b[0m \u001b[0mdriver\u001b[0m\u001b[1;33m.\u001b[0m\u001b[0mfind_elements_by_xpath\u001b[0m\u001b[1;33m(\u001b[0m\u001b[1;34m\"//button[contains(@class, 'eoupkm71 css-1lc8b1f e11e36i3')]\"\u001b[0m\u001b[1;33m)\u001b[0m\u001b[1;33m\u001b[0m\u001b[1;33m\u001b[0m\u001b[0m\n\u001b[1;32m---> 14\u001b[1;33m     \u001b[0mnextPage\u001b[0m \u001b[1;33m=\u001b[0m \u001b[0mButtons\u001b[0m\u001b[1;33m[\u001b[0m\u001b[0mlen\u001b[0m\u001b[1;33m(\u001b[0m\u001b[0mButtons\u001b[0m\u001b[1;33m)\u001b[0m\u001b[1;33m-\u001b[0m\u001b[1;36m1\u001b[0m\u001b[1;33m]\u001b[0m\u001b[1;33m\u001b[0m\u001b[1;33m\u001b[0m\u001b[0m\n\u001b[0m\u001b[0;32m     15\u001b[0m     \u001b[0mnextPage\u001b[0m\u001b[1;33m.\u001b[0m\u001b[0mclick\u001b[0m\u001b[1;33m(\u001b[0m\u001b[1;33m)\u001b[0m\u001b[1;33m\u001b[0m\u001b[1;33m\u001b[0m\u001b[0m\n",
      "\u001b[1;31mIndexError\u001b[0m: list index out of range"
     ]
    }
   ],
   "source": [
    "#Loop through pages. Open offers links in new tabs and then close them\n",
    "for i in range(1,3):\n",
    "    \n",
    "    offersList = driver.find_elements_by_xpath(\"//a[contains(@class, 'css-jf4j3r es62z2j27')]\")\n",
    "    links = [elem.get_attribute('href') for elem in offersList]\n",
    "\n",
    "    for link in links:\n",
    "        driver.execute_script(\"window.open('');\")\n",
    "        driver.switch_to.window(driver.window_handles[1])\n",
    "        driver.get(link)\n",
    "        driver.close()\n",
    "        driver.switch_to.window(driver.window_handles[0])\n",
    "    \n",
    "    Buttons = driver.find_elements_by_xpath(\"//button[contains(@class, 'eoupkm71 css-1lc8b1f e11e36i3')]\")\n",
    "    nextPage = Buttons[len(Buttons)-1]\n",
    "    try:\n",
    "        nextPage.click()"
   ]
  },
  {
   "cell_type": "code",
   "execution_count": null,
   "id": "d6901257",
   "metadata": {},
   "outputs": [],
   "source": []
  }
 ],
 "metadata": {
  "kernelspec": {
   "display_name": "Python 3",
   "language": "python",
   "name": "python3"
  },
  "language_info": {
   "codemirror_mode": {
    "name": "ipython",
    "version": 3
   },
   "file_extension": ".py",
   "mimetype": "text/x-python",
   "name": "python",
   "nbconvert_exporter": "python",
   "pygments_lexer": "ipython3",
   "version": "3.8.8"
  }
 },
 "nbformat": 4,
 "nbformat_minor": 5
}
