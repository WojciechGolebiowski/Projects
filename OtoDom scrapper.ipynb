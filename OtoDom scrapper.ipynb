{
 "cells": [
  {
   "cell_type": "code",
   "execution_count": 92,
   "id": "1accc2ad",
   "metadata": {},
   "outputs": [],
   "source": [
    "from selenium import webdriver\n",
    "import time\n",
    "import pandas as pd"
   ]
  },
  {
   "cell_type": "code",
   "execution_count": 93,
   "id": "1f61ef23",
   "metadata": {},
   "outputs": [],
   "source": [
    "#https://stackoverflow.com/questions/42478591/python-selenium-chrome-webdriver\n",
    "#https://stackoverflow.com/questions/47074208/chrome-fails-to-load-with-python-selenium-chromedriver\n",
    "opts = webdriver.ChromeOptions()\n",
    "opts.add_argument('--no-sandbox')\n",
    "driver = webdriver.Chrome(r\"C:\\Users\\woote\\Desktop\\Python\\Projects\\chromedriver.exe\",options=opts)"
   ]
  },
  {
   "cell_type": "code",
   "execution_count": 94,
   "id": "6e52260b",
   "metadata": {},
   "outputs": [],
   "source": [
    "driver.get('https://www.otodom.pl/pl/oferty/sprzedaz/mieszkanie/wroclaw/krzyki')\n",
    "\n",
    "time.sleep(1)\n",
    "try:\n",
    "    accept = driver.find_element_by_id('onetrust-accept-btn-handler')\n",
    "    accept.click()\n",
    "except:\n",
    "    pass\n",
    "\n",
    "#More Filters\n",
    "moreFilters = driver.find_element_by_id('search-form-more-filters')\n",
    "moreFilters.click()\n",
    "    \n",
    "#Minimum area\n",
    "areaMin = driver.find_element_by_id('areaMin')\n",
    "areaMin.send_keys('45')\n",
    "#Maximum area\n",
    "areaMax = driver.find_element_by_id('areaMax')\n",
    "areaMax.send_keys('65')\n",
    "#Maximum Price per meter\n",
    "maxPrice = driver.find_element_by_id('pricePerMeterMax')\n",
    "maxPrice.send_keys('9000')\n",
    "#Minimum Year\n",
    "buildYear = driver.find_element_by_id('buildYearMin')\n",
    "buildYear.send_keys('2010')\n",
    "\n",
    "#Find locals with balconys and elevators\n",
    "attributes = driver.find_element_by_xpath(\"//ul[contains(@id, 'extras')]\")\n",
    "for child in attributes.find_elements_by_xpath(\".//*\"):\n",
    "    if child.get_attribute(\"class\") == 'css-1xx0ttw elfgyn10':\n",
    "        if child.text == 'Balkon' or child.text == 'Winda':\n",
    "            child.click()\n",
    "            \n",
    "#Submit search\n",
    "driver.find_element_by_id('search-form-submit').click()"
   ]
  },
  {
   "cell_type": "code",
   "execution_count": 95,
   "id": "bc89d4be",
   "metadata": {},
   "outputs": [],
   "source": [
    "#Move down so that needed page elements will become visible\n",
    "driver.execute_script(\"window.scrollTo(0, 9000)\")\n",
    "time.sleep(1)\n",
    "#Get the number of pages - it will be used later to click through pages\n",
    "Buttons = driver.find_elements_by_xpath(\"//button[contains(@class, 'eoupkm71 css-1lc8b1f e11e36i3')]\")\n",
    "for i in range(len(Buttons)-1,0,-1):\n",
    "    try:\n",
    "        if int(Buttons[i].text):\n",
    "            lastPage = int(Buttons[i].text)\n",
    "            break\n",
    "    except:\n",
    "        pass"
   ]
  },
  {
   "cell_type": "code",
   "execution_count": 96,
   "id": "fcd13db0",
   "metadata": {},
   "outputs": [
    {
     "ename": "WebDriverException",
     "evalue": "Message: chrome not reachable\n  (Session info: chrome=96.0.4664.110)\n",
     "output_type": "error",
     "traceback": [
      "\u001b[1;31m---------------------------------------------------------------------------\u001b[0m",
      "\u001b[1;31mWebDriverException\u001b[0m                        Traceback (most recent call last)",
      "\u001b[1;32m<ipython-input-96-dea1eeffe2ef>\u001b[0m in \u001b[0;36m<module>\u001b[1;34m\u001b[0m\n\u001b[0;32m     45\u001b[0m             \u001b[1;32mcontinue\u001b[0m\u001b[1;33m\u001b[0m\u001b[1;33m\u001b[0m\u001b[0m\n\u001b[0;32m     46\u001b[0m \u001b[1;33m\u001b[0m\u001b[0m\n\u001b[1;32m---> 47\u001b[1;33m         \u001b[0mdriver\u001b[0m\u001b[1;33m.\u001b[0m\u001b[0mclose\u001b[0m\u001b[1;33m(\u001b[0m\u001b[1;33m)\u001b[0m\u001b[1;33m\u001b[0m\u001b[1;33m\u001b[0m\u001b[0m\n\u001b[0m\u001b[0;32m     48\u001b[0m         \u001b[0mdriver\u001b[0m\u001b[1;33m.\u001b[0m\u001b[0mswitch_to\u001b[0m\u001b[1;33m.\u001b[0m\u001b[0mwindow\u001b[0m\u001b[1;33m(\u001b[0m\u001b[0mdriver\u001b[0m\u001b[1;33m.\u001b[0m\u001b[0mwindow_handles\u001b[0m\u001b[1;33m[\u001b[0m\u001b[1;36m0\u001b[0m\u001b[1;33m]\u001b[0m\u001b[1;33m)\u001b[0m\u001b[1;33m\u001b[0m\u001b[1;33m\u001b[0m\u001b[0m\n\u001b[0;32m     49\u001b[0m \u001b[1;33m\u001b[0m\u001b[0m\n",
      "\u001b[1;32m~\\anaconda3\\lib\\site-packages\\selenium\\webdriver\\remote\\webdriver.py\u001b[0m in \u001b[0;36mclose\u001b[1;34m(self)\u001b[0m\n\u001b[0;32m    686\u001b[0m             \u001b[0mdriver\u001b[0m\u001b[1;33m.\u001b[0m\u001b[0mclose\u001b[0m\u001b[1;33m(\u001b[0m\u001b[1;33m)\u001b[0m\u001b[1;33m\u001b[0m\u001b[1;33m\u001b[0m\u001b[0m\n\u001b[0;32m    687\u001b[0m         \"\"\"\n\u001b[1;32m--> 688\u001b[1;33m         \u001b[0mself\u001b[0m\u001b[1;33m.\u001b[0m\u001b[0mexecute\u001b[0m\u001b[1;33m(\u001b[0m\u001b[0mCommand\u001b[0m\u001b[1;33m.\u001b[0m\u001b[0mCLOSE\u001b[0m\u001b[1;33m)\u001b[0m\u001b[1;33m\u001b[0m\u001b[1;33m\u001b[0m\u001b[0m\n\u001b[0m\u001b[0;32m    689\u001b[0m \u001b[1;33m\u001b[0m\u001b[0m\n\u001b[0;32m    690\u001b[0m     \u001b[1;32mdef\u001b[0m \u001b[0mquit\u001b[0m\u001b[1;33m(\u001b[0m\u001b[0mself\u001b[0m\u001b[1;33m)\u001b[0m\u001b[1;33m:\u001b[0m\u001b[1;33m\u001b[0m\u001b[1;33m\u001b[0m\u001b[0m\n",
      "\u001b[1;32m~\\anaconda3\\lib\\site-packages\\selenium\\webdriver\\remote\\webdriver.py\u001b[0m in \u001b[0;36mexecute\u001b[1;34m(self, driver_command, params)\u001b[0m\n\u001b[0;32m    319\u001b[0m         \u001b[0mresponse\u001b[0m \u001b[1;33m=\u001b[0m \u001b[0mself\u001b[0m\u001b[1;33m.\u001b[0m\u001b[0mcommand_executor\u001b[0m\u001b[1;33m.\u001b[0m\u001b[0mexecute\u001b[0m\u001b[1;33m(\u001b[0m\u001b[0mdriver_command\u001b[0m\u001b[1;33m,\u001b[0m \u001b[0mparams\u001b[0m\u001b[1;33m)\u001b[0m\u001b[1;33m\u001b[0m\u001b[1;33m\u001b[0m\u001b[0m\n\u001b[0;32m    320\u001b[0m         \u001b[1;32mif\u001b[0m \u001b[0mresponse\u001b[0m\u001b[1;33m:\u001b[0m\u001b[1;33m\u001b[0m\u001b[1;33m\u001b[0m\u001b[0m\n\u001b[1;32m--> 321\u001b[1;33m             \u001b[0mself\u001b[0m\u001b[1;33m.\u001b[0m\u001b[0merror_handler\u001b[0m\u001b[1;33m.\u001b[0m\u001b[0mcheck_response\u001b[0m\u001b[1;33m(\u001b[0m\u001b[0mresponse\u001b[0m\u001b[1;33m)\u001b[0m\u001b[1;33m\u001b[0m\u001b[1;33m\u001b[0m\u001b[0m\n\u001b[0m\u001b[0;32m    322\u001b[0m             response['value'] = self._unwrap_value(\n\u001b[0;32m    323\u001b[0m                 response.get('value', None))\n",
      "\u001b[1;32m~\\anaconda3\\lib\\site-packages\\selenium\\webdriver\\remote\\errorhandler.py\u001b[0m in \u001b[0;36mcheck_response\u001b[1;34m(self, response)\u001b[0m\n\u001b[0;32m    240\u001b[0m                 \u001b[0malert_text\u001b[0m \u001b[1;33m=\u001b[0m \u001b[0mvalue\u001b[0m\u001b[1;33m[\u001b[0m\u001b[1;34m'alert'\u001b[0m\u001b[1;33m]\u001b[0m\u001b[1;33m.\u001b[0m\u001b[0mget\u001b[0m\u001b[1;33m(\u001b[0m\u001b[1;34m'text'\u001b[0m\u001b[1;33m)\u001b[0m\u001b[1;33m\u001b[0m\u001b[1;33m\u001b[0m\u001b[0m\n\u001b[0;32m    241\u001b[0m             \u001b[1;32mraise\u001b[0m \u001b[0mexception_class\u001b[0m\u001b[1;33m(\u001b[0m\u001b[0mmessage\u001b[0m\u001b[1;33m,\u001b[0m \u001b[0mscreen\u001b[0m\u001b[1;33m,\u001b[0m \u001b[0mstacktrace\u001b[0m\u001b[1;33m,\u001b[0m \u001b[0malert_text\u001b[0m\u001b[1;33m)\u001b[0m\u001b[1;33m\u001b[0m\u001b[1;33m\u001b[0m\u001b[0m\n\u001b[1;32m--> 242\u001b[1;33m         \u001b[1;32mraise\u001b[0m \u001b[0mexception_class\u001b[0m\u001b[1;33m(\u001b[0m\u001b[0mmessage\u001b[0m\u001b[1;33m,\u001b[0m \u001b[0mscreen\u001b[0m\u001b[1;33m,\u001b[0m \u001b[0mstacktrace\u001b[0m\u001b[1;33m)\u001b[0m\u001b[1;33m\u001b[0m\u001b[1;33m\u001b[0m\u001b[0m\n\u001b[0m\u001b[0;32m    243\u001b[0m \u001b[1;33m\u001b[0m\u001b[0m\n\u001b[0;32m    244\u001b[0m     \u001b[1;32mdef\u001b[0m \u001b[0m_value_or_default\u001b[0m\u001b[1;33m(\u001b[0m\u001b[0mself\u001b[0m\u001b[1;33m,\u001b[0m \u001b[0mobj\u001b[0m\u001b[1;33m,\u001b[0m \u001b[0mkey\u001b[0m\u001b[1;33m,\u001b[0m \u001b[0mdefault\u001b[0m\u001b[1;33m)\u001b[0m\u001b[1;33m:\u001b[0m\u001b[1;33m\u001b[0m\u001b[1;33m\u001b[0m\u001b[0m\n",
      "\u001b[1;31mWebDriverException\u001b[0m: Message: chrome not reachable\n  (Session info: chrome=96.0.4664.110)\n"
     ]
    }
   ],
   "source": [
    "#Loop through pages. Open offers links in new tabs and then close them\n",
    "linkS = []\n",
    "titleS = []\n",
    "cenaS = []\n",
    "cenaM2S = []\n",
    "rokBudowyS = []\n",
    "powierzchniaS = []\n",
    "rynekS = []\n",
    "pokojeS = []\n",
    "pietroS = []\n",
    "\n",
    "for i in range(1,lastPage):\n",
    "    \n",
    "    driver.implicitly_wait(3)\n",
    "    \n",
    "    offersList = driver.find_elements_by_xpath(\"//a[contains(@class, 'css-jf4j3r es62z2j27')]\")\n",
    "    links = [elem.get_attribute('href') for elem in offersList]\n",
    "\n",
    "    for link in links:\n",
    "        driver.execute_script(\"window.open('');\")\n",
    "        time.sleep(1)\n",
    "        driver.switch_to.window(driver.window_handles[1])\n",
    "        driver.get(link)\n",
    "        try:\n",
    "            cena = driver.find_element_by_xpath(\"//strong[@aria-label='Cena']\")\n",
    "            cenaM2 = driver.find_element_by_xpath(\"//div[@aria-label='Cena za metr kwadratowy']\")\n",
    "            rokBudowy = driver.find_element_by_xpath(\"//div[@aria-label='Rok budowy']\").find_elements_by_tag_name('div')[1]\n",
    "            powierzchnia = driver.find_element_by_xpath(\"//div[@aria-label='Powierzchnia']\").find_elements_by_tag_name('div')[1]\n",
    "            rynek = driver.find_element_by_xpath(\"//div[@aria-label='Rynek']\").find_elements_by_tag_name('div')[1]\n",
    "            pokoje = driver.find_element_by_xpath(\"//div[@aria-label='Liczba pokoi']\").find_elements_by_tag_name('div')[1]\n",
    "            pietro = driver.find_element_by_xpath(\"//div[@aria-label='Piętro']\").find_elements_by_tag_name('div')[1]\n",
    "            title = driver.find_element_by_xpath(\"//h1[contains(@class, 'css-11kn46p eu6swcv15')]\")\n",
    "        \n",
    "            linkS.append(link) \n",
    "            titleS.append(title.text)\n",
    "            cenaS.append(cena.text)\n",
    "            cenaM2S.append(cenaM2.text)\n",
    "            rokBudowyS.append(rokBudowy.text)\n",
    "            powierzchniaS.append(powierzchnia.text)\n",
    "            rynekS.append(rynek.text)\n",
    "            pokojeS.append(pokoje.text)\n",
    "            pietroS.append(pietro.text)\n",
    "        \n",
    "        except:\n",
    "            continue\n",
    "\n",
    "        driver.close()\n",
    "        driver.switch_to.window(driver.window_handles[0])\n",
    "    \n",
    "    driver.execute_script(\"window.scrollTo(0, 9000)\")\n",
    "    time.sleep(1)\n",
    "    \n",
    "    try:\n",
    "        nextPage = driver.find_element_by_xpath(\"//button[@aria-label='następna strona']\")\n",
    "        nextPage.click()\n",
    "    except Exception as e:\n",
    "        print(e.__doc__)\n",
    "        break"
   ]
  },
  {
   "cell_type": "code",
   "execution_count": null,
   "id": "8f5084d2",
   "metadata": {},
   "outputs": [],
   "source": [
    "Results = pd.DataFrame({'Hyperlink':linkS, 'Tytuł':titleS, 'Cena':cenaS, 'Cena M2':cenaM2S, 'Rok Budowy':rokBudowyS,\\\n",
    "                        'Powierzchnia':powierzchniaS, 'Rynek':rynekS,'Pokoje':pokojeS, 'Piętro':pietroS},\\\n",
    "                       columns=['Hyperlink','Tytuł','Cena','Cena M2','Rok Budowy','Powierzchnia','Rynek','Pokoje','Piętro'])"
   ]
  },
  {
   "cell_type": "code",
   "execution_count": null,
   "id": "a79ea24e",
   "metadata": {},
   "outputs": [],
   "source": []
  },
  {
   "cell_type": "code",
   "execution_count": null,
   "id": "bd46b6a0",
   "metadata": {},
   "outputs": [],
   "source": []
  }
 ],
 "metadata": {
  "kernelspec": {
   "display_name": "Python 3",
   "language": "python",
   "name": "python3"
  },
  "language_info": {
   "codemirror_mode": {
    "name": "ipython",
    "version": 3
   },
   "file_extension": ".py",
   "mimetype": "text/x-python",
   "name": "python",
   "nbconvert_exporter": "python",
   "pygments_lexer": "ipython3",
   "version": "3.8.8"
  }
 },
 "nbformat": 4,
 "nbformat_minor": 5
}
